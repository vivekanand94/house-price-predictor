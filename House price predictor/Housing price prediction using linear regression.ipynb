{
 "cells": [
  {
   "cell_type": "code",
   "execution_count": 19,
   "id": "af267cbb",
   "metadata": {},
   "outputs": [
    {
     "name": "stdout",
     "output_type": "stream",
     "text": [
      "<class 'pandas.core.frame.DataFrame'>\n",
      "RangeIndex: 34857 entries, 0 to 34856\n",
      "Data columns (total 21 columns):\n",
      " #   Column         Non-Null Count  Dtype  \n",
      "---  ------         --------------  -----  \n",
      " 0   Suburb         34857 non-null  object \n",
      " 1   Address        34857 non-null  object \n",
      " 2   Rooms          34857 non-null  int64  \n",
      " 3   Type           34857 non-null  object \n",
      " 4   Price          27247 non-null  float64\n",
      " 5   Method         34857 non-null  object \n",
      " 6   SellerG        34857 non-null  object \n",
      " 7   Date           34857 non-null  object \n",
      " 8   Distance       34856 non-null  float64\n",
      " 9   Postcode       34856 non-null  float64\n",
      " 10  Bedroom2       26640 non-null  float64\n",
      " 11  Bathroom       26631 non-null  float64\n",
      " 12  Car            26129 non-null  float64\n",
      " 13  Landsize       23047 non-null  float64\n",
      " 14  BuildingArea   13742 non-null  float64\n",
      " 15  YearBuilt      15551 non-null  float64\n",
      " 16  CouncilArea    34854 non-null  object \n",
      " 17  Lattitude      26881 non-null  float64\n",
      " 18  Longtitude     26881 non-null  float64\n",
      " 19  Regionname     34854 non-null  object \n",
      " 20  Propertycount  34854 non-null  float64\n",
      "dtypes: float64(12), int64(1), object(8)\n",
      "memory usage: 5.6+ MB\n",
      "None\n",
      "\n",
      "\n",
      "Suburb               0\n",
      "Address              0\n",
      "Rooms                0\n",
      "Type                 0\n",
      "Price             7610\n",
      "Method               0\n",
      "SellerG              0\n",
      "Date                 0\n",
      "Distance             1\n",
      "Postcode             1\n",
      "Bedroom2          8217\n",
      "Bathroom          8226\n",
      "Car               8728\n",
      "Landsize         11810\n",
      "BuildingArea     21115\n",
      "YearBuilt        19306\n",
      "CouncilArea          3\n",
      "Lattitude         7976\n",
      "Longtitude        7976\n",
      "Regionname           3\n",
      "Propertycount        3\n",
      "dtype: int64\n",
      "\n",
      "\n"
     ]
    }
   ],
   "source": [
    "import pandas as pd\n",
    "import numpy as np\n",
    "from sklearn.model_selection import train_test_split\n",
    "from sklearn.linear_model import LinearRegression\n",
    "df=pd.read_csv(r\"C:\\Users\\vivek\\Downloads\\ml project dataset\\Melbourne_housing_FULL.csv\")\n",
    "print(df.info())\n",
    "print(\"\\n\")\n",
    "print(df.isnull().sum())\n",
    "print(\"\\n\")"
   ]
  },
  {
   "cell_type": "code",
   "execution_count": 20,
   "id": "37ecd416",
   "metadata": {},
   "outputs": [
    {
     "name": "stdout",
     "output_type": "stream",
     "text": [
      "Percentage of missing values in 'Postcode' column: 0.002868864216656626\n",
      "Postcode         1.000000\n",
      "Distance         0.481566\n",
      "Longtitude       0.362895\n",
      "Bathroom         0.120080\n",
      "YearBuilt        0.089805\n",
      "Bedroom2         0.089292\n",
      "Rooms            0.085890\n",
      "Car              0.067886\n",
      "Price            0.044950\n",
      "BuildingArea     0.042437\n",
      "Landsize         0.040664\n",
      "Propertycount    0.017108\n",
      "Lattitude       -0.231027\n",
      "Name: Postcode, dtype: float64\n",
      "\n",
      "\n"
     ]
    }
   ],
   "source": [
    "missing_percentage = df['Postcode'].isnull().mean() * 100\n",
    "print(\"Percentage of missing values in 'Postcode' column:\", missing_percentage)\n",
    "correlation_matrix = df.corr()\n",
    "postcode_correlation = correlation_matrix['Postcode'].sort_values(ascending=False)\n",
    "print(postcode_correlation)\n",
    "mean_postcode = df['Postcode'].mean()\n",
    "df['Postcode'].fillna(mean_postcode, inplace=True)\n",
    "print(\"\\n\")"
   ]
  },
  {
   "cell_type": "code",
   "execution_count": 21,
   "id": "99c8a906",
   "metadata": {},
   "outputs": [
    {
     "name": "stdout",
     "output_type": "stream",
     "text": [
      "Percentage of missing values in 'Price' column: 21.83205668875692\n",
      "Price            1.000000\n",
      "Rooms            0.465238\n",
      "Bedroom2         0.430275\n",
      "Bathroom         0.429878\n",
      "Car              0.201803\n",
      "Longtitude       0.197874\n",
      "BuildingArea     0.100754\n",
      "Postcode         0.044949\n",
      "Landsize         0.032748\n",
      "Propertycount   -0.059017\n",
      "Distance        -0.211384\n",
      "Lattitude       -0.215607\n",
      "YearBuilt       -0.333306\n",
      "Name: Price, dtype: float64\n",
      "\n",
      "\n"
     ]
    }
   ],
   "source": [
    "missing_percentage = df['Price'].isnull().mean() * 100\n",
    "print(\"Percentage of missing values in 'Price' column:\", missing_percentage)\n",
    "correlation_matrix = df.corr()\n",
    "price_correlation = correlation_matrix['Price'].sort_values(ascending=False)\n",
    "print(price_correlation)\n",
    "mean_price = df['Price'].mean()\n",
    "df['Price'].fillna(mean_price, inplace=True)\n",
    "print(\"\\n\")"
   ]
  },
  {
   "cell_type": "code",
   "execution_count": 22,
   "id": "123aa410",
   "metadata": {},
   "outputs": [
    {
     "name": "stdout",
     "output_type": "stream",
     "text": [
      "Correlation with 'Bedroom2' column:\n",
      " Bedroom2         1.000000\n",
      "Rooms            0.946755\n",
      "Bathroom         0.614892\n",
      "Car              0.388491\n",
      "Price            0.368067\n",
      "Distance         0.269524\n",
      "BuildingArea     0.154157\n",
      "Longtitude       0.106164\n",
      "Postcode         0.089292\n",
      "Landsize         0.037019\n",
      "Lattitude        0.003447\n",
      "YearBuilt       -0.002022\n",
      "Propertycount   -0.053451\n",
      "Name: Bedroom2, dtype: float64\n",
      "Correlation with 'Bathroom' column:\n",
      " Bathroom         1.000000\n",
      "Bedroom2         0.614892\n",
      "Rooms            0.611826\n",
      "Price            0.365058\n",
      "Car              0.307518\n",
      "YearBuilt        0.167955\n",
      "BuildingArea     0.147558\n",
      "Distance         0.126201\n",
      "Postcode         0.120080\n",
      "Longtitude       0.106531\n",
      "Landsize         0.036333\n",
      "Propertycount   -0.032887\n",
      "Lattitude       -0.059183\n",
      "Name: Bathroom, dtype: float64\n",
      "Correlation with 'Propertycount' column:\n",
      " Propertycount    1.000000\n",
      "YearBuilt        0.022420\n",
      "Postcode         0.017108\n",
      "Longtitude       0.016326\n",
      "Lattitude        0.011112\n",
      "Car             -0.009617\n",
      "Distance        -0.018140\n",
      "Landsize        -0.018195\n",
      "BuildingArea    -0.024523\n",
      "Bathroom        -0.032887\n",
      "Price           -0.052935\n",
      "Bedroom2        -0.053451\n",
      "Rooms           -0.071677\n",
      "Name: Propertycount, dtype: float64\n",
      "Correlation with 'BuildingArea' column:\n",
      " BuildingArea     1.000000\n",
      "Landsize         0.354530\n",
      "Rooms            0.156229\n",
      "Bedroom2         0.154157\n",
      "Bathroom         0.147558\n",
      "Car              0.104373\n",
      "Price            0.098883\n",
      "Distance         0.076301\n",
      "YearBuilt        0.067811\n",
      "Postcode         0.042437\n",
      "Lattitude        0.017155\n",
      "Longtitude      -0.002143\n",
      "Propertycount   -0.024523\n",
      "Name: BuildingArea, dtype: float64\n",
      "Correlation with 'Landsize' column:\n",
      " Landsize         1.000000\n",
      "BuildingArea     0.354530\n",
      "Distance         0.060862\n",
      "YearBuilt        0.044474\n",
      "Postcode         0.040664\n",
      "Car              0.037829\n",
      "Rooms            0.037402\n",
      "Bedroom2         0.037019\n",
      "Bathroom         0.036333\n",
      "Price            0.031958\n",
      "Lattitude        0.025318\n",
      "Longtitude      -0.002582\n",
      "Propertycount   -0.018195\n",
      "Name: Landsize, dtype: float64\n",
      "Correlation with 'YearBuilt' column:\n",
      " YearBuilt        1.000000\n",
      "Distance         0.323059\n",
      "Bathroom         0.167955\n",
      "Car              0.128702\n",
      "Lattitude        0.091592\n",
      "Postcode         0.089805\n",
      "BuildingArea     0.067811\n",
      "Landsize         0.044474\n",
      "Propertycount    0.022420\n",
      "Bedroom2        -0.002022\n",
      "Rooms           -0.012749\n",
      "Longtitude      -0.022175\n",
      "Price           -0.288049\n",
      "Name: YearBuilt, dtype: float64\n"
     ]
    }
   ],
   "source": [
    "# Check correlation between each column and other features\n",
    "correlation_matrix = df.corr()\n",
    "bedroom2_correlation = correlation_matrix['Bedroom2'].sort_values(ascending=False)\n",
    "bathroom_correlation = correlation_matrix['Bathroom'].sort_values(ascending=False)\n",
    "propertycount_correlation = correlation_matrix['Propertycount'].sort_values(ascending=False)\n",
    "buildingarea_correlation = correlation_matrix['BuildingArea'].sort_values(ascending=False)\n",
    "landsize_correlation = correlation_matrix['Landsize'].sort_values(ascending=False)\n",
    "yearbuilt_correlation = correlation_matrix['YearBuilt'].sort_values(ascending=False)\n",
    "\n",
    "print(\"Correlation with 'Bedroom2' column:\\n\", bedroom2_correlation)\n",
    "print(\"Correlation with 'Bathroom' column:\\n\", bathroom_correlation)\n",
    "print(\"Correlation with 'Propertycount' column:\\n\", propertycount_correlation)\n",
    "print(\"Correlation with 'BuildingArea' column:\\n\", buildingarea_correlation)\n",
    "print(\"Correlation with 'Landsize' column:\\n\", landsize_correlation)\n",
    "print(\"Correlation with 'YearBuilt' column:\\n\", yearbuilt_correlation)\n"
   ]
  },
  {
   "cell_type": "code",
   "execution_count": 23,
   "id": "1f233b62",
   "metadata": {},
   "outputs": [
    {
     "name": "stdout",
     "output_type": "stream",
     "text": [
      "Suburb              0\n",
      "Address             0\n",
      "Rooms               0\n",
      "Type                0\n",
      "Price               0\n",
      "Method              0\n",
      "SellerG             0\n",
      "Date                0\n",
      "Distance            1\n",
      "Postcode            0\n",
      "Bedroom2            0\n",
      "Bathroom            0\n",
      "Car              8728\n",
      "Landsize            0\n",
      "BuildingArea        0\n",
      "YearBuilt           0\n",
      "CouncilArea         3\n",
      "Lattitude        7976\n",
      "Longtitude       7976\n",
      "Regionname          3\n",
      "Propertycount       3\n",
      "dtype: int64\n"
     ]
    }
   ],
   "source": [
    "# Fill in missing values using mean imputation\n",
    "mean_bedroom2 = df['Bedroom2'].mean()\n",
    "df['Bedroom2'].fillna(mean_bedroom2, inplace=True)\n",
    "\n",
    "mean_bathroom = df['Bathroom'].mean()\n",
    "df['Bathroom'].fillna(mean_bathroom, inplace=True)\n",
    "\n",
    "mean_buildingarea = df['BuildingArea'].mean()\n",
    "df['BuildingArea'].fillna(mean_buildingarea, inplace=True)\n",
    "\n",
    "mean_landsize = df['Landsize'].mean()\n",
    "df['Landsize'].fillna(mean_landsize, inplace=True)\n",
    "\n",
    "mean_yearbuilt = df['YearBuilt'].mean()\n",
    "df['YearBuilt'].fillna(mean_yearbuilt, inplace=True)\n",
    "\n",
    "print(df.isnull().sum())"
   ]
  },
  {
   "cell_type": "code",
   "execution_count": 24,
   "id": "e917166d",
   "metadata": {},
   "outputs": [
    {
     "name": "stdout",
     "output_type": "stream",
     "text": [
      "<class 'pandas.core.frame.DataFrame'>\n",
      "RangeIndex: 34857 entries, 0 to 34856\n",
      "Data columns (total 11 columns):\n",
      " #   Column        Non-Null Count  Dtype  \n",
      "---  ------        --------------  -----  \n",
      " 0   Rooms         34857 non-null  int64  \n",
      " 1   Type          34857 non-null  object \n",
      " 2   Price         34857 non-null  float64\n",
      " 3   Method        34857 non-null  object \n",
      " 4   SellerG       34857 non-null  object \n",
      " 5   Postcode      34857 non-null  float64\n",
      " 6   Bedroom2      34857 non-null  float64\n",
      " 7   Bathroom      34857 non-null  float64\n",
      " 8   Landsize      34857 non-null  float64\n",
      " 9   BuildingArea  34857 non-null  float64\n",
      " 10  YearBuilt     34857 non-null  float64\n",
      "dtypes: float64(7), int64(1), object(3)\n",
      "memory usage: 2.9+ MB\n",
      "None\n",
      "Rooms           0\n",
      "Type            0\n",
      "Price           0\n",
      "Method          0\n",
      "SellerG         0\n",
      "Postcode        0\n",
      "Bedroom2        0\n",
      "Bathroom        0\n",
      "Landsize        0\n",
      "BuildingArea    0\n",
      "YearBuilt       0\n",
      "dtype: int64\n"
     ]
    }
   ],
   "source": [
    "df.drop('Suburb', axis=1, inplace=True)\n",
    "df.drop('Address', axis=1, inplace=True)\n",
    "df.drop('Date', axis=1, inplace=True)\n",
    "df.drop('Distance', axis=1, inplace=True)\n",
    "df.drop('Car', axis=1, inplace=True)\n",
    "df.drop('CouncilArea', axis=1, inplace=True)\n",
    "df.drop('Lattitude', axis=1, inplace=True)\n",
    "df.drop('Longtitude', axis=1, inplace=True)\n",
    "df.drop('Regionname', axis=1, inplace=True)\n",
    "df.drop('Propertycount', axis=1, inplace=True)\n",
    "print(df.info())\n",
    "print(df.isnull().sum())"
   ]
  },
  {
   "cell_type": "code",
   "execution_count": 25,
   "id": "0c29f872",
   "metadata": {},
   "outputs": [
    {
     "name": "stdout",
     "output_type": "stream",
     "text": [
      "   Rooms Type         Price Method  SellerG  Postcode  Bedroom2  Bathroom  \\\n",
      "0      2    h  1.050173e+06     SS   Jellis    3067.0       2.0       1.0   \n",
      "1      2    h  1.480000e+06      S   Biggin    3067.0       2.0       1.0   \n",
      "2      2    h  1.035000e+06      S   Biggin    3067.0       2.0       1.0   \n",
      "3      3    u  1.050173e+06     VB   Rounds    3067.0       3.0       2.0   \n",
      "4      3    h  1.465000e+06     SP   Biggin    3067.0       3.0       2.0   \n",
      "5      3    h  8.500000e+05     PI   Biggin    3067.0       3.0       2.0   \n",
      "6      4    h  1.600000e+06     VB   Nelson    3067.0       3.0       1.0   \n",
      "7      4    h  1.050173e+06     SN   Nelson    3067.0       3.0       2.0   \n",
      "8      2    h  1.050173e+06      S   Biggin    3067.0       4.0       1.0   \n",
      "9      2    h  1.050173e+06      S  Collins    3067.0       3.0       2.0   \n",
      "\n",
      "   Landsize  BuildingArea    YearBuilt  \n",
      "0     126.0      160.2564  1965.289885  \n",
      "1     202.0      160.2564  1965.289885  \n",
      "2     156.0       79.0000  1900.000000  \n",
      "3       0.0      160.2564  1965.289885  \n",
      "4     134.0      150.0000  1900.000000  \n",
      "5      94.0      160.2564  1965.289885  \n",
      "6     120.0      142.0000  2014.000000  \n",
      "7     400.0      220.0000  2006.000000  \n",
      "8     201.0      160.2564  1900.000000  \n",
      "9     202.0      160.2564  1900.000000  \n"
     ]
    }
   ],
   "source": [
    "print(df.head(10))"
   ]
  },
  {
   "cell_type": "code",
   "execution_count": 26,
   "id": "ab68e099",
   "metadata": {},
   "outputs": [],
   "source": [
    "# Define a dictionary to map the string values to specific numbers\n",
    "method_map = {'SS':1, 'S':2 ,'VB':3, 'SP':4, 'PI':5, 'SN':6, 'W':7, 'PN':8 ,'SA':9}\n",
    "type_map = {'h': 1, 't': 2, 'u': 3}\n",
    "\n",
    "# Replace the string values in the 'Method' and 'Type' columns with the mapped numbers\n",
    "df['Method'] = df['Method'].replace(method_map)\n",
    "df['Type'] = df['Type'].replace(type_map)\n"
   ]
  },
  {
   "cell_type": "code",
   "execution_count": 27,
   "id": "642b97ea",
   "metadata": {},
   "outputs": [
    {
     "name": "stdout",
     "output_type": "stream",
     "text": [
      "R-squared: 0.25814682420464996\n"
     ]
    }
   ],
   "source": [
    "\n",
    "# Select the input variables (features) and target variable\n",
    "X = df[['Rooms','Bedroom2', 'Bathroom','Landsize','BuildingArea','YearBuilt','Type','Method']]\n",
    "y = df['Price']\n",
    "\n",
    "# Split the data into training and testing sets\n",
    "from sklearn.model_selection import train_test_split\n",
    "X_train, X_test, y_train, y_test = train_test_split(X, y, test_size=0.2)\n",
    "\n",
    "# Create a Linear Regression model object\n",
    "model = LinearRegression()\n",
    "\n",
    "# Train the model using the training set\n",
    "model.fit(X_train, y_train)\n",
    "\n",
    "# Make predictions on the testing set\n",
    "y_pred = model.predict(X_test)\n",
    "\n",
    "# Evaluate the model's performance using R-squared\n",
    "from sklearn.metrics import r2_score\n",
    "r2 = r2_score(y_test, y_pred)\n",
    "print('R-squared:', r2)\n"
   ]
  },
  {
   "cell_type": "code",
   "execution_count": 28,
   "id": "c0042363",
   "metadata": {},
   "outputs": [],
   "source": [
    "#import matplotlib.pyplot as plt\n",
    "\n",
    "# Plot the predicted prices against the actual prices\n",
    "#plt.scatter(y_test, y_pred)\n",
    "#plt.xlabel('Actual Price')\n",
    "#plt.ylabel('Predicted Price')\n",
    "#plt.title('Linear Regression Model Performance')\n",
    "#plt.show()"
   ]
  },
  {
   "cell_type": "code",
   "execution_count": 29,
   "id": "f6da8c70",
   "metadata": {},
   "outputs": [
    {
     "data": {
      "image/png": "[encoded data removed]",
      "text/plain": [
       "<Figure size 640x480 with 1 Axes>"
      ]
     },
     "metadata": {},
     "output_type": "display_data"
    }
   ],
   "source": [
    "import matplotlib.pyplot as plt\n",
    "plt.plot(y, label='Actual')\n",
    "plt.plot(y_pred, label='Predicted')\n",
    "plt.legend()\n",
    "plt.title('Actual vs. Predicted House Prices')\n",
    "plt.xlabel('Observations')\n",
    "plt.ylabel('Price')\n",
    "plt.show()"
   ]
  },
  {
   "cell_type": "code",
   "execution_count": null,
   "id": "6b64fd64",
   "metadata": {},
   "outputs": [],
   "source": []
  }
 ],
 "metadata": {
  "kernelspec": {
   "display_name": "Python 3 (ipykernel)",
   "language": "python",
   "name": "python3"
  },
  "language_info": {
   "codemirror_mode": {
    "name": "ipython",
    "version": 3
   },
   "file_extension": ".py",
   "mimetype": "text/x-python",
   "name": "python",
   "nbconvert_exporter": "python",
   "pygments_lexer": "ipython3",
   "version": "3.9.18"
  }
 },
 "nbformat": 4,
 "nbformat_minor": 5
}
